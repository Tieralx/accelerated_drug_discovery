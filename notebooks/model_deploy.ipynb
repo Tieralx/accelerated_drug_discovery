{
 "cells": [
  {
   "cell_type": "markdown",
   "metadata": {},
   "source": [
    "# Instituto Tecnológico y de Estudios Superiores de Monterrey\n",
    "## Maestría en Inteligencia Artificial Aplicada\n",
    "### Proyecto Integrador (Gpo 10) - TC5035.10\n",
    "\n",
    "### **Proyecto: Diseño Acelerado de Fármacos**\n",
    "\n",
    "### Avance 5: Modelo final\n",
    "\n",
    "#### **Docentes:**\n",
    "- Dra. Grettel Barceló Alonso - Profesor Titular\n",
    "- Dr. Luis Eduardo Falcón Morales - Profesor Titular\n",
    "- Dr. Horacio Martinez Alfaro  – Profesor Tutor\n",
    "\n",
    "#### **Miembros del equipo:**\n",
    " - Jose Luis Artigas Arroyo - A01794906\n",
    " - José Luis Fabela Portillo - A00748551\n",
    " - Alejandro Emmanuel Silva Ortega - A01794545"
   ]
  },
  {
   "cell_type": "markdown",
   "metadata": {},
   "source": [
    "En esta fase del proyecto de evaluara el modelo final seleccionado, el cual fur Desicion Tree Classifier. Para evaluar este modelo se usaran los datos de la base de datos de DCTPep con péptidos que atacan a la molecula VEGF."
   ]
  },
  {
   "cell_type": "code",
   "execution_count": 2,
   "metadata": {},
   "outputs": [],
   "source": [
    "import pandas as pd\n",
    "import numpy as np\n",
    "import matplotlib.pyplot as plt\n",
    "from matplotlib.colors import ListedColormap\n",
    "import seaborn as sns\n",
    "from sklearn.model_selection import train_test_split\n",
    "from sklearn.metrics import root_mean_squared_error\n",
    "from sklearn.metrics import classification_report, confusion_matrix, ConfusionMatrixDisplay\n",
    "from sklearn.model_selection import GridSearchCV, RandomizedSearchCV\n",
    "import re\n",
    "import joblib\n",
    "from preprocess import pfeature_process\n",
    "import csv\n",
    "import torch\n",
    "import yaml\n",
    "import sys\n",
    "sys.path.insert(1, '../')\n",
    "from models.network import create_model"
   ]
  },
  {
   "cell_type": "code",
   "execution_count": 3,
   "metadata": {},
   "outputs": [],
   "source": [
    "#ubicacion de los archivos de datos con el modelo y el archivo FASTA procesado con CD-HIT\n",
    "model_path = '../models/dtr_model.pkl'\n",
    "cd_hit_path = '../data/processed/VEGF.txt'"
   ]
  },
  {
   "cell_type": "code",
   "execution_count": 4,
   "metadata": {},
   "outputs": [],
   "source": [
    "model = joblib.load(model_path)"
   ]
  },
  {
   "cell_type": "code",
   "execution_count": 5,
   "metadata": {},
   "outputs": [
    {
     "ename": "TypeError",
     "evalue": "pfeature_process() missing 1 required positional argument: 'file_path'",
     "output_type": "error",
     "traceback": [
      "\u001b[1;31m---------------------------------------------------------------------------\u001b[0m",
      "\u001b[1;31mTypeError\u001b[0m                                 Traceback (most recent call last)",
      "Cell \u001b[1;32mIn[5], line 1\u001b[0m\n\u001b[1;32m----> 1\u001b[0m vegf_seqs \u001b[38;5;241m=\u001b[39m \u001b[43mpfeature_process\u001b[49m\u001b[43m(\u001b[49m\u001b[43mcd_hit_path\u001b[49m\u001b[43m)\u001b[49m\n",
      "\u001b[1;31mTypeError\u001b[0m: pfeature_process() missing 1 required positional argument: 'file_path'"
     ]
    }
   ],
   "source": [
    "vegf_seqs = pfeature_process(cd_hit_path)"
   ]
  },
  {
   "cell_type": "code",
   "execution_count": 6,
   "metadata": {},
   "outputs": [
    {
     "data": {
      "text/plain": [
       "array([0, 1, 0, ..., 0, 0, 0])"
      ]
     },
     "execution_count": 6,
     "metadata": {},
     "output_type": "execute_result"
    }
   ],
   "source": [
    "vegf_predict = model.predict(vegf_seqs)\n",
    "vegf_predict"
   ]
  },
  {
   "cell_type": "code",
   "execution_count": 9,
   "metadata": {},
   "outputs": [],
   "source": [
    "vegf_y = pd.read_csv('../data/processed/VEGF_y.csv')"
   ]
  },
  {
   "cell_type": "code",
   "execution_count": null,
   "metadata": {},
   "outputs": [],
   "source": [
    "vegf_report = classification_report(vegf_y, vegf_predict, target_names=['positive','negative'])\n"
   ]
  },
  {
   "cell_type": "code",
   "execution_count": 13,
   "metadata": {},
   "outputs": [],
   "source": [
    "print(vegf_report)"
   ]
  },
  {
   "cell_type": "code",
   "execution_count": null,
   "metadata": {},
   "outputs": [],
   "source": []
  },
  {
   "cell_type": "markdown",
   "metadata": {},
   "source": [
    "# Procesamiento de secuencias generadas para clasificarla como potencialmente "
   ]
  },
  {
   "cell_type": "code",
   "execution_count": null,
   "metadata": {},
   "outputs": [],
   "source": [
    "cd_hit_path = '../data/processed/generated_seqs_cd_hit.txt'\n"
   ]
  },
  {
   "cell_type": "code",
   "execution_count": 1,
   "metadata": {},
   "outputs": [
    {
     "ename": "NameError",
     "evalue": "name 'pfeature_process' is not defined",
     "output_type": "error",
     "traceback": [
      "\u001b[1;31m---------------------------------------------------------------------------\u001b[0m",
      "\u001b[1;31mNameError\u001b[0m                                 Traceback (most recent call last)",
      "Cell \u001b[1;32mIn[1], line 1\u001b[0m\n\u001b[1;32m----> 1\u001b[0m test_seqs \u001b[38;5;241m=\u001b[39m \u001b[43mpfeature_process\u001b[49m(cd_hit_path)\n\u001b[0;32m      2\u001b[0m test_seqs\n",
      "\u001b[1;31mNameError\u001b[0m: name 'pfeature_process' is not defined"
     ]
    }
   ],
   "source": [
    "test_seqs = pfeature_process(cd_hit_path)\n",
    "test_seqs\n"
   ]
  },
  {
   "cell_type": "code",
   "execution_count": 8,
   "metadata": {},
   "outputs": [
    {
     "data": {
      "text/plain": [
       "array([1, 0, 0, ..., 0, 0, 0])"
      ]
     },
     "execution_count": 8,
     "metadata": {},
     "output_type": "execute_result"
    }
   ],
   "source": [
    "predict_test = model.predict(test_seqs)\n",
    "predict_test"
   ]
  },
  {
   "cell_type": "code",
   "execution_count": 9,
   "metadata": {},
   "outputs": [],
   "source": [
    "predict_test = pd.DataFrame(predict_test)"
   ]
  },
  {
   "cell_type": "code",
   "execution_count": 10,
   "metadata": {},
   "outputs": [
    {
     "data": {
      "text/plain": [
       "(1365, 2)"
      ]
     },
     "execution_count": 10,
     "metadata": {},
     "output_type": "execute_result"
    }
   ],
   "source": [
    "predict_test.index = test_seqs.index\n",
    "predict_test.reset_index(inplace=True)\n",
    "predict_test.shape"
   ]
  },
  {
   "cell_type": "code",
   "execution_count": 11,
   "metadata": {},
   "outputs": [],
   "source": [
    "predict_test.rename(columns={'index':'Secuence', 0:'Label'}, inplace=True)\n",
    "\n"
   ]
  },
  {
   "cell_type": "code",
   "execution_count": 12,
   "metadata": {},
   "outputs": [
    {
     "data": {
      "text/html": [
       "<div>\n",
       "<style scoped>\n",
       "    .dataframe tbody tr th:only-of-type {\n",
       "        vertical-align: middle;\n",
       "    }\n",
       "\n",
       "    .dataframe tbody tr th {\n",
       "        vertical-align: top;\n",
       "    }\n",
       "\n",
       "    .dataframe thead th {\n",
       "        text-align: right;\n",
       "    }\n",
       "</style>\n",
       "<table border=\"1\" class=\"dataframe\">\n",
       "  <thead>\n",
       "    <tr style=\"text-align: right;\">\n",
       "      <th></th>\n",
       "      <th>Secuence</th>\n",
       "      <th>Label</th>\n",
       "    </tr>\n",
       "  </thead>\n",
       "  <tbody>\n",
       "    <tr>\n",
       "      <th>0</th>\n",
       "      <td>LDLDDWYTVDRDAMSM</td>\n",
       "      <td>1</td>\n",
       "    </tr>\n",
       "    <tr>\n",
       "      <th>1</th>\n",
       "      <td>KEAKEGATEWCPIVIN</td>\n",
       "      <td>0</td>\n",
       "    </tr>\n",
       "    <tr>\n",
       "      <th>2</th>\n",
       "      <td>IYMYQNPQADYQKTVV</td>\n",
       "      <td>0</td>\n",
       "    </tr>\n",
       "    <tr>\n",
       "      <th>3</th>\n",
       "      <td>YYIENVMHVAMPMYYK</td>\n",
       "      <td>1</td>\n",
       "    </tr>\n",
       "    <tr>\n",
       "      <th>4</th>\n",
       "      <td>DPAMEFDNAEIIDDDD</td>\n",
       "      <td>0</td>\n",
       "    </tr>\n",
       "    <tr>\n",
       "      <th>...</th>\n",
       "      <td>...</td>\n",
       "      <td>...</td>\n",
       "    </tr>\n",
       "    <tr>\n",
       "      <th>1360</th>\n",
       "      <td>YVYMMYYMYMVRMCHD</td>\n",
       "      <td>0</td>\n",
       "    </tr>\n",
       "    <tr>\n",
       "      <th>1361</th>\n",
       "      <td>DNKHYYDYDTKFNYVV</td>\n",
       "      <td>1</td>\n",
       "    </tr>\n",
       "    <tr>\n",
       "      <th>1362</th>\n",
       "      <td>WEHEQQHDNQDDGKDN</td>\n",
       "      <td>0</td>\n",
       "    </tr>\n",
       "    <tr>\n",
       "      <th>1363</th>\n",
       "      <td>YYCIMNKMTDKHFFAA</td>\n",
       "      <td>0</td>\n",
       "    </tr>\n",
       "    <tr>\n",
       "      <th>1364</th>\n",
       "      <td>ANADVAANVDMPYGYG</td>\n",
       "      <td>0</td>\n",
       "    </tr>\n",
       "  </tbody>\n",
       "</table>\n",
       "<p>1365 rows × 2 columns</p>\n",
       "</div>"
      ],
      "text/plain": [
       "              Secuence  Label\n",
       "0     LDLDDWYTVDRDAMSM      1\n",
       "1     KEAKEGATEWCPIVIN      0\n",
       "2     IYMYQNPQADYQKTVV      0\n",
       "3     YYIENVMHVAMPMYYK      1\n",
       "4     DPAMEFDNAEIIDDDD      0\n",
       "...                ...    ...\n",
       "1360  YVYMMYYMYMVRMCHD      0\n",
       "1361  DNKHYYDYDTKFNYVV      1\n",
       "1362  WEHEQQHDNQDDGKDN      0\n",
       "1363  YYCIMNKMTDKHFFAA      0\n",
       "1364  ANADVAANVDMPYGYG      0\n",
       "\n",
       "[1365 rows x 2 columns]"
      ]
     },
     "execution_count": 12,
     "metadata": {},
     "output_type": "execute_result"
    }
   ],
   "source": [
    "predict_test"
   ]
  },
  {
   "cell_type": "code",
   "execution_count": 13,
   "metadata": {},
   "outputs": [
    {
     "data": {
      "text/html": [
       "<div>\n",
       "<style scoped>\n",
       "    .dataframe tbody tr th:only-of-type {\n",
       "        vertical-align: middle;\n",
       "    }\n",
       "\n",
       "    .dataframe tbody tr th {\n",
       "        vertical-align: top;\n",
       "    }\n",
       "\n",
       "    .dataframe thead th {\n",
       "        text-align: right;\n",
       "    }\n",
       "</style>\n",
       "<table border=\"1\" class=\"dataframe\">\n",
       "  <thead>\n",
       "    <tr style=\"text-align: right;\">\n",
       "      <th></th>\n",
       "      <th>Secuence</th>\n",
       "      <th>Label</th>\n",
       "    </tr>\n",
       "  </thead>\n",
       "  <tbody>\n",
       "    <tr>\n",
       "      <th>0</th>\n",
       "      <td>LDLDDWYTVDRDAMSM</td>\n",
       "      <td>1</td>\n",
       "    </tr>\n",
       "    <tr>\n",
       "      <th>3</th>\n",
       "      <td>YYIENVMHVAMPMYYK</td>\n",
       "      <td>1</td>\n",
       "    </tr>\n",
       "    <tr>\n",
       "      <th>6</th>\n",
       "      <td>YMMMDEMCQMYPTSQA</td>\n",
       "      <td>1</td>\n",
       "    </tr>\n",
       "    <tr>\n",
       "      <th>11</th>\n",
       "      <td>NRQRNSNGVAMSGTAT</td>\n",
       "      <td>1</td>\n",
       "    </tr>\n",
       "    <tr>\n",
       "      <th>16</th>\n",
       "      <td>EYDYIPPPHHHRNKNI</td>\n",
       "      <td>1</td>\n",
       "    </tr>\n",
       "    <tr>\n",
       "      <th>...</th>\n",
       "      <td>...</td>\n",
       "      <td>...</td>\n",
       "    </tr>\n",
       "    <tr>\n",
       "      <th>1349</th>\n",
       "      <td>NDRIIGNQVEIICVVC</td>\n",
       "      <td>1</td>\n",
       "    </tr>\n",
       "    <tr>\n",
       "      <th>1352</th>\n",
       "      <td>IHRFHYLPLPQKNSEE</td>\n",
       "      <td>1</td>\n",
       "    </tr>\n",
       "    <tr>\n",
       "      <th>1355</th>\n",
       "      <td>EIQSYMECIFPIQPVT</td>\n",
       "      <td>1</td>\n",
       "    </tr>\n",
       "    <tr>\n",
       "      <th>1357</th>\n",
       "      <td>EFEFEYFKKDYMYNRI</td>\n",
       "      <td>1</td>\n",
       "    </tr>\n",
       "    <tr>\n",
       "      <th>1361</th>\n",
       "      <td>DNKHYYDYDTKFNYVV</td>\n",
       "      <td>1</td>\n",
       "    </tr>\n",
       "  </tbody>\n",
       "</table>\n",
       "<p>429 rows × 2 columns</p>\n",
       "</div>"
      ],
      "text/plain": [
       "              Secuence  Label\n",
       "0     LDLDDWYTVDRDAMSM      1\n",
       "3     YYIENVMHVAMPMYYK      1\n",
       "6     YMMMDEMCQMYPTSQA      1\n",
       "11    NRQRNSNGVAMSGTAT      1\n",
       "16    EYDYIPPPHHHRNKNI      1\n",
       "...                ...    ...\n",
       "1349  NDRIIGNQVEIICVVC      1\n",
       "1352  IHRFHYLPLPQKNSEE      1\n",
       "1355  EIQSYMECIFPIQPVT      1\n",
       "1357  EFEFEYFKKDYMYNRI      1\n",
       "1361  DNKHYYDYDTKFNYVV      1\n",
       "\n",
       "[429 rows x 2 columns]"
      ]
     },
     "execution_count": 13,
     "metadata": {},
     "output_type": "execute_result"
    }
   ],
   "source": [
    "predict_positive = predict_test[predict_test['Label']==1]\n",
    "predict_positive"
   ]
  },
  {
   "cell_type": "code",
   "execution_count": 14,
   "metadata": {},
   "outputs": [],
   "source": [
    "#Solo la columna de secuencias se almacenara como CSV ya que los pasos siguientes solo requieren esta columna\n",
    "predict_positive['Secuence'].to_csv('../data/processed/predicted_positive.csv', index = False)"
   ]
  },
  {
   "cell_type": "markdown",
   "metadata": {},
   "source": [
    "# peptideBERT\n"
   ]
  },
  {
   "cell_type": "markdown",
   "metadata": {},
   "source": [
    "hemo: positive (hemolytic) - negative (nonhemolytic) --> select negative only\n",
    "sol: positive (Soluble) - negative (non-soluble) --> select positive\n",
    "nf:  positive (A nonfouling peptide) - positive (a fouling peptide) --> select positive\n",
    "\n",
    "Guntuboina, C., Das, A., Mollaei, P., Kim, S., & Farimani, A. B. (2023). PeptideBERT: A language model based on transformers for peptide property prediction. The Journal of Physical Chemistry Letters, 14(46), 10427–10434. https://doi.org/10.1021/acs.jpclett.3c02398"
   ]
  },
  {
   "cell_type": "code",
   "execution_count": 15,
   "metadata": {},
   "outputs": [],
   "source": [
    "def load_bert_model(feature, device):\n",
    "    config = yaml.load(open(f'../models/{feature}/config.yaml', 'r'), Loader=yaml.FullLoader)\n",
    "    config['device'] = device\n",
    "    model = create_model(config)\n",
    "    model.load_state_dict(torch.load(f'../models/{feature}/model.pt',weights_only = False)['model_state_dict'], strict=False)\n",
    "    return model\n",
    "  \n"
   ]
  },
  {
   "cell_type": "code",
   "execution_count": null,
   "metadata": {},
   "outputs": [],
   "source": [
    "def predict_peptidebert(sequences):\n",
    "    peptides =sequences.copy()\n",
    "    device = torch.device('cuda' if torch.cuda.is_available() else 'cpu')\n",
    "    MAX_LEN = max(map(len, sequences))\n",
    "    # convert to tokens\n",
    "    mapping = dict(zip(\n",
    "        ['[PAD]','[UNK]','[CLS]','[SEP]','[MASK]','L',\n",
    "        'A','G','V','E','S','I','K','R','D','T','P','N',\n",
    "        'Q','F','Y','M','H','C','W'],\n",
    "        range(30)\n",
    "    ))\n",
    "\n",
    "    \n",
    "    for i in range(len(sequences)):\n",
    "        sequences[i] = [mapping[c] for c in sequences[i]] \n",
    "        sequences[i].extend([0] * (MAX_LEN - len(sequences[i])))  # padding to max length\n",
    "    \n",
    "    results = pd.DataFrame({'Sequence':peptides})\n",
    "    feats = ['hemo','sol','nf']\n",
    "    with torch.inference_mode():\n",
    "        for c in feats:\n",
    "            model = load_bert_model(c,device)\n",
    "            preds = []\n",
    "            for i in range(len(sequences)):\n",
    "                input_ids = torch.tensor([sequences[i]]).to(device)\n",
    "                attention_mask = (input_ids != 0).float()\n",
    "                output = float(model(input_ids, attention_mask)[0])\n",
    "                # output = int(model(input_ids, attention_mask)[0] > 0.5)\n",
    "                #print(f'Secuencia {peptides[i]} {c]: {output}')\n",
    "                preds.append(output)\n",
    "                \n",
    "            results = pd.concat([results,pd.DataFrame(preds, columns = [c]).astype(float)], axis=1)\n",
    "    \n",
    "    results.to_csv(f'../data/peptideBert_results.csv', index=False)\n",
    "    return results\n",
    "    "
   ]
  },
  {
   "cell_type": "code",
   "execution_count": 17,
   "metadata": {},
   "outputs": [],
   "source": [
    "seqs = []\n",
    "pos_seqs ='../data/processed/predicted_positive.csv' \n",
    "with open(pos_seqs) as fp:\n",
    "    next(fp)\n",
    "    f = csv.reader(fp, delimiter = ',', quotechar='\"' )\n",
    "    for line in f:\n",
    "        seq = re.sub(r'[\\[\\'][\\'\\]]','',str(line)).strip()\n",
    "        seqs.append(seq)\n",
    "bert_results = predict_peptidebert(seqs)"
   ]
  },
  {
   "cell_type": "code",
   "execution_count": 18,
   "metadata": {},
   "outputs": [
    {
     "data": {
      "text/html": [
       "<div>\n",
       "<style scoped>\n",
       "    .dataframe tbody tr th:only-of-type {\n",
       "        vertical-align: middle;\n",
       "    }\n",
       "\n",
       "    .dataframe tbody tr th {\n",
       "        vertical-align: top;\n",
       "    }\n",
       "\n",
       "    .dataframe thead th {\n",
       "        text-align: right;\n",
       "    }\n",
       "</style>\n",
       "<table border=\"1\" class=\"dataframe\">\n",
       "  <thead>\n",
       "    <tr style=\"text-align: right;\">\n",
       "      <th></th>\n",
       "      <th>Sequence</th>\n",
       "      <th>hemo</th>\n",
       "      <th>sol</th>\n",
       "      <th>nf</th>\n",
       "    </tr>\n",
       "  </thead>\n",
       "  <tbody>\n",
       "    <tr>\n",
       "      <th>0</th>\n",
       "      <td>LDLDDWYTVDRDAMSM</td>\n",
       "      <td>0.058728</td>\n",
       "      <td>0.766240</td>\n",
       "      <td>0.154453</td>\n",
       "    </tr>\n",
       "    <tr>\n",
       "      <th>1</th>\n",
       "      <td>YYIENVMHVAMPMYYK</td>\n",
       "      <td>0.036115</td>\n",
       "      <td>0.240625</td>\n",
       "      <td>0.015137</td>\n",
       "    </tr>\n",
       "    <tr>\n",
       "      <th>2</th>\n",
       "      <td>YMMMDEMCQMYPTSQA</td>\n",
       "      <td>0.036783</td>\n",
       "      <td>0.835673</td>\n",
       "      <td>0.242257</td>\n",
       "    </tr>\n",
       "    <tr>\n",
       "      <th>3</th>\n",
       "      <td>NRQRNSNGVAMSGTAT</td>\n",
       "      <td>0.043448</td>\n",
       "      <td>0.920638</td>\n",
       "      <td>0.362148</td>\n",
       "    </tr>\n",
       "    <tr>\n",
       "      <th>4</th>\n",
       "      <td>EYDYIPPPHHHRNKNI</td>\n",
       "      <td>0.028100</td>\n",
       "      <td>0.893227</td>\n",
       "      <td>0.360850</td>\n",
       "    </tr>\n",
       "    <tr>\n",
       "      <th>...</th>\n",
       "      <td>...</td>\n",
       "      <td>...</td>\n",
       "      <td>...</td>\n",
       "      <td>...</td>\n",
       "    </tr>\n",
       "    <tr>\n",
       "      <th>424</th>\n",
       "      <td>NDRIIGNQVEIICVVC</td>\n",
       "      <td>0.234215</td>\n",
       "      <td>0.707088</td>\n",
       "      <td>0.006889</td>\n",
       "    </tr>\n",
       "    <tr>\n",
       "      <th>425</th>\n",
       "      <td>IHRFHYLPLPQKNSEE</td>\n",
       "      <td>0.097121</td>\n",
       "      <td>0.905724</td>\n",
       "      <td>0.189623</td>\n",
       "    </tr>\n",
       "    <tr>\n",
       "      <th>426</th>\n",
       "      <td>EIQSYMECIFPIQPVT</td>\n",
       "      <td>0.132906</td>\n",
       "      <td>0.856495</td>\n",
       "      <td>0.105274</td>\n",
       "    </tr>\n",
       "    <tr>\n",
       "      <th>427</th>\n",
       "      <td>EFEFEYFKKDYMYNRI</td>\n",
       "      <td>0.040359</td>\n",
       "      <td>0.901550</td>\n",
       "      <td>0.025191</td>\n",
       "    </tr>\n",
       "    <tr>\n",
       "      <th>428</th>\n",
       "      <td>DNKHYYDYDTKFNYVV</td>\n",
       "      <td>0.039114</td>\n",
       "      <td>0.937688</td>\n",
       "      <td>0.131082</td>\n",
       "    </tr>\n",
       "  </tbody>\n",
       "</table>\n",
       "<p>429 rows × 4 columns</p>\n",
       "</div>"
      ],
      "text/plain": [
       "             Sequence      hemo       sol        nf\n",
       "0    LDLDDWYTVDRDAMSM  0.058728  0.766240  0.154453\n",
       "1    YYIENVMHVAMPMYYK  0.036115  0.240625  0.015137\n",
       "2    YMMMDEMCQMYPTSQA  0.036783  0.835673  0.242257\n",
       "3    NRQRNSNGVAMSGTAT  0.043448  0.920638  0.362148\n",
       "4    EYDYIPPPHHHRNKNI  0.028100  0.893227  0.360850\n",
       "..                ...       ...       ...       ...\n",
       "424  NDRIIGNQVEIICVVC  0.234215  0.707088  0.006889\n",
       "425  IHRFHYLPLPQKNSEE  0.097121  0.905724  0.189623\n",
       "426  EIQSYMECIFPIQPVT  0.132906  0.856495  0.105274\n",
       "427  EFEFEYFKKDYMYNRI  0.040359  0.901550  0.025191\n",
       "428  DNKHYYDYDTKFNYVV  0.039114  0.937688  0.131082\n",
       "\n",
       "[429 rows x 4 columns]"
      ]
     },
     "execution_count": 18,
     "metadata": {},
     "output_type": "execute_result"
    }
   ],
   "source": [
    "bert_results"
   ]
  },
  {
   "cell_type": "code",
   "execution_count": 19,
   "metadata": {},
   "outputs": [
    {
     "data": {
      "image/png": "[encoded data removed]",
      "text/plain": [
       "<Figure size 800x600 with 2 Axes>"
      ]
     },
     "metadata": {},
     "output_type": "display_data"
    }
   ],
   "source": [
    "col_num = ['hemo','sol','nf']\n",
    "correlation_matrix = bert_results[col_num].corr(numeric_only=True, method='pearson')\n",
    "print(\"Matriz de Correlación:\")\n",
    "print(correlation_matrix)\n",
    "plt.figure(figsize=(8, 6))\n",
    "sns.heatmap(correlation_matrix, annot=True, cmap='coolwarm', vmin=-1, vmax=1)\n",
    "plt.title('Mapa de Calor de Correlación')\n",
    "plt.show()\n"
   ]
  },
  {
   "cell_type": "code",
   "execution_count": 20,
   "metadata": {},
   "outputs": [],
   "source": [
    "print(correlation_matrix)"
   ]
  },
  {
   "cell_type": "code",
   "execution_count": null,
   "metadata": {},
   "outputs": [],
   "source": []
  }
 ],
 "metadata": {
  "kernelspec": {
   "display_name": ".venv",
   "language": "python",
   "name": "python3"
  },
  "language_info": {
   "codemirror_mode": {
    "name": "ipython",
    "version": 3
   },
   "file_extension": ".py",
   "mimetype": "text/x-python",
   "name": "python",
   "nbconvert_exporter": "python",
   "pygments_lexer": "ipython3",
   "version": "3.10.11"
  }
 },
 "nbformat": 4,
 "nbformat_minor": 2
}
