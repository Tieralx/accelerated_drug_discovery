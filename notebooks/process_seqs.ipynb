{
 "cells": [
  {
   "cell_type": "code",
   "execution_count": 15,
   "id": "4f9f9289",
   "metadata": {},
   "outputs": [],
   "source": [
    "import pandas as pd\n",
    "import numpy as np\n",
    "import matplotlib.pyplot as plt\n",
    "from matplotlib.colors import ListedColormap\n",
    "import seaborn as sns\n",
    "from sklearn.model_selection import train_test_split\n",
    "from sklearn.metrics import root_mean_squared_error\n",
    "from sklearn.metrics import classification_report, confusion_matrix, ConfusionMatrixDisplay\n",
    "from sklearn.model_selection import GridSearchCV, RandomizedSearchCV\n",
    "import re\n",
    "import joblib\n",
    "from preprocess import pfeature_process\n",
    "from seq_cleanup import clean_seq\n",
    "import csv\n",
    "import torch\n",
    "import yaml\n",
    "import subprocess"
   ]
  },
  {
   "cell_type": "code",
   "execution_count": 2,
   "id": "26f34fdc",
   "metadata": {},
   "outputs": [
    {
     "data": {
      "text/html": [
       "<div>\n",
       "<style scoped>\n",
       "    .dataframe tbody tr th:only-of-type {\n",
       "        vertical-align: middle;\n",
       "    }\n",
       "\n",
       "    .dataframe tbody tr th {\n",
       "        vertical-align: top;\n",
       "    }\n",
       "\n",
       "    .dataframe thead th {\n",
       "        text-align: right;\n",
       "    }\n",
       "</style>\n",
       "<table border=\"1\" class=\"dataframe\">\n",
       "  <thead>\n",
       "    <tr style=\"text-align: right;\">\n",
       "      <th></th>\n",
       "      <th>sequences</th>\n",
       "    </tr>\n",
       "  </thead>\n",
       "  <tbody>\n",
       "    <tr>\n",
       "      <th>0</th>\n",
       "      <td>INNTLVLLCNLFNIRYLDFCGYEKHWPYIVDGDFGYGCPRKLIPTT...</td>\n",
       "    </tr>\n",
       "    <tr>\n",
       "      <th>1</th>\n",
       "      <td>DENLGSEMERDCLPTDSKFNYECGSKEKQLIKMIKNCVKMNLSGYV...</td>\n",
       "    </tr>\n",
       "    <tr>\n",
       "      <th>2</th>\n",
       "      <td>DGAEFCRQAGGEMWSRPAVQSFPGLTTYPRNPTQFAARRNVAYLCR...</td>\n",
       "    </tr>\n",
       "    <tr>\n",
       "      <th>3</th>\n",
       "      <td>NIYNSDYRXPWYMEIYCRRGHRLGPRAQTRPAPCCGSTTAGPRVFP...</td>\n",
       "    </tr>\n",
       "    <tr>\n",
       "      <th>4</th>\n",
       "      <td>KSTEDLMDEVYKQIVPRECNNKEHXRTRGTPSQSTRVLQLDTQVQD...</td>\n",
       "    </tr>\n",
       "    <tr>\n",
       "      <th>...</th>\n",
       "      <td>...</td>\n",
       "    </tr>\n",
       "    <tr>\n",
       "      <th>2995</th>\n",
       "      <td>ASNTTVETMYEDDDHHWDREGPQPITRDYILSPPGEETTMSDVLAR...</td>\n",
       "    </tr>\n",
       "    <tr>\n",
       "      <th>2996</th>\n",
       "      <td>RHWMIDSWKMGVFIFPAYELNTSSNWFYPLRKQVYYKVRFWEAPNG...</td>\n",
       "    </tr>\n",
       "    <tr>\n",
       "      <th>2997</th>\n",
       "      <td>TGPVTQWRFTIVERHDSRKYLTYREDTTKAGTISIPQNWLYSQKQM...</td>\n",
       "    </tr>\n",
       "    <tr>\n",
       "      <th>2998</th>\n",
       "      <td>DEINEIEETVRQQEAQTMIVDMDSNEQSNVACGRDDENNLCQILIS...</td>\n",
       "    </tr>\n",
       "    <tr>\n",
       "      <th>2999</th>\n",
       "      <td>ANSTYCWECQVNTRWSDEEHARRRSERCQIDWHWCNEIYCVRQEWD...</td>\n",
       "    </tr>\n",
       "  </tbody>\n",
       "</table>\n",
       "<p>3000 rows × 1 columns</p>\n",
       "</div>"
      ],
      "text/plain": [
       "                                              sequences\n",
       "0     INNTLVLLCNLFNIRYLDFCGYEKHWPYIVDGDFGYGCPRKLIPTT...\n",
       "1     DENLGSEMERDCLPTDSKFNYECGSKEKQLIKMIKNCVKMNLSGYV...\n",
       "2     DGAEFCRQAGGEMWSRPAVQSFPGLTTYPRNPTQFAARRNVAYLCR...\n",
       "3     NIYNSDYRXPWYMEIYCRRGHRLGPRAQTRPAPCCGSTTAGPRVFP...\n",
       "4     KSTEDLMDEVYKQIVPRECNNKEHXRTRGTPSQSTRVLQLDTQVQD...\n",
       "...                                                 ...\n",
       "2995  ASNTTVETMYEDDDHHWDREGPQPITRDYILSPPGEETTMSDVLAR...\n",
       "2996  RHWMIDSWKMGVFIFPAYELNTSSNWFYPLRKQVYYKVRFWEAPNG...\n",
       "2997  TGPVTQWRFTIVERHDSRKYLTYREDTTKAGTISIPQNWLYSQKQM...\n",
       "2998  DEINEIEETVRQQEAQTMIVDMDSNEQSNVACGRDDENNLCQILIS...\n",
       "2999  ANSTYCWECQVNTRWSDEEHARRRSERCQIDWHWCNEIYCVRQEWD...\n",
       "\n",
       "[3000 rows x 1 columns]"
      ]
     },
     "execution_count": 2,
     "metadata": {},
     "output_type": "execute_result"
    }
   ],
   "source": [
    "seqs = pd.read_csv('../data/processed/generated_seqs.csv')\n",
    "seqs\n"
   ]
  },
  {
   "cell_type": "code",
   "execution_count": 3,
   "id": "64512896",
   "metadata": {},
   "outputs": [
    {
     "name": "stdout",
     "output_type": "stream",
     "text": [
      "<class 'pandas.core.frame.DataFrame'>\n",
      "Index(['sequences'], dtype='object')\n"
     ]
    }
   ],
   "source": [
    "print(type(seqs))\n",
    "print(seqs.columns)\n"
   ]
  },
  {
   "cell_type": "code",
   "execution_count": null,
   "id": "14cd5f06",
   "metadata": {},
   "outputs": [
    {
     "data": {
      "text/html": [
       "<div>\n",
       "<style scoped>\n",
       "    .dataframe tbody tr th:only-of-type {\n",
       "        vertical-align: middle;\n",
       "    }\n",
       "\n",
       "    .dataframe tbody tr th {\n",
       "        vertical-align: top;\n",
       "    }\n",
       "\n",
       "    .dataframe thead th {\n",
       "        text-align: right;\n",
       "    }\n",
       "</style>\n",
       "<table border=\"1\" class=\"dataframe\">\n",
       "  <thead>\n",
       "    <tr style=\"text-align: right;\">\n",
       "      <th></th>\n",
       "      <th>sequences</th>\n",
       "    </tr>\n",
       "  </thead>\n",
       "  <tbody>\n",
       "    <tr>\n",
       "      <th>0</th>\n",
       "      <td>INNTLVLLCNLFNIRYLDFCGYEKHWPYIVDGDFGYGCPRKLIPTT...</td>\n",
       "    </tr>\n",
       "    <tr>\n",
       "      <th>1</th>\n",
       "      <td>DENLGSEMERDCLPTDSKFNYECGSKEKQLIKMIKNCVKMNLSGYV...</td>\n",
       "    </tr>\n",
       "    <tr>\n",
       "      <th>2</th>\n",
       "      <td>DGAEFCRQAGGEMWSRPAVQSFPGLTTYPRNPTQFAARRNVAYLCR...</td>\n",
       "    </tr>\n",
       "    <tr>\n",
       "      <th>3</th>\n",
       "      <td>DMIYRTDTIKPEGWLKWIRFKKCWKNKNCDASWKGHKIKLIDLVLR...</td>\n",
       "    </tr>\n",
       "    <tr>\n",
       "      <th>4</th>\n",
       "      <td>IGRLLRRMMRPIMKTCLNVGYHIPNSMEQKHCWDGLSLGWRNDIRM...</td>\n",
       "    </tr>\n",
       "    <tr>\n",
       "      <th>...</th>\n",
       "      <td>...</td>\n",
       "    </tr>\n",
       "    <tr>\n",
       "      <th>2380</th>\n",
       "      <td>KEWYKKHYLTTGNLTHDERNLWMNMMWLTEIIEKNENRCDIWEIGDCMV</td>\n",
       "    </tr>\n",
       "    <tr>\n",
       "      <th>2381</th>\n",
       "      <td>LSSLPWIMRLNLWTRHDAVQTGEMMNDQKPHWFNIWRHTWLGHKGQCHS</td>\n",
       "    </tr>\n",
       "    <tr>\n",
       "      <th>2382</th>\n",
       "      <td>DRYMEYMYGCEMYIENGDIIEMDKEEKSGEKNNFNCCVCYFDGMFWFFL</td>\n",
       "    </tr>\n",
       "    <tr>\n",
       "      <th>2383</th>\n",
       "      <td>TRYEIVHDYKNYPLFNDKGIIDCACPHPITSSKKHHHLSINHGQVASYY</td>\n",
       "    </tr>\n",
       "    <tr>\n",
       "      <th>2384</th>\n",
       "      <td>NWKHNKFLYHKHWRCPHYPKDQIGTQDFLCMQKRIKPPAGTQWYRYPIT</td>\n",
       "    </tr>\n",
       "  </tbody>\n",
       "</table>\n",
       "<p>2385 rows × 1 columns</p>\n",
       "</div>"
      ],
      "text/plain": [
       "                                              sequences\n",
       "0     INNTLVLLCNLFNIRYLDFCGYEKHWPYIVDGDFGYGCPRKLIPTT...\n",
       "1     DENLGSEMERDCLPTDSKFNYECGSKEKQLIKMIKNCVKMNLSGYV...\n",
       "2     DGAEFCRQAGGEMWSRPAVQSFPGLTTYPRNPTQFAARRNVAYLCR...\n",
       "3     DMIYRTDTIKPEGWLKWIRFKKCWKNKNCDASWKGHKIKLIDLVLR...\n",
       "4     IGRLLRRMMRPIMKTCLNVGYHIPNSMEQKHCWDGLSLGWRNDIRM...\n",
       "...                                                 ...\n",
       "2380  KEWYKKHYLTTGNLTHDERNLWMNMMWLTEIIEKNENRCDIWEIGDCMV\n",
       "2381  LSSLPWIMRLNLWTRHDAVQTGEMMNDQKPHWFNIWRHTWLGHKGQCHS\n",
       "2382  DRYMEYMYGCEMYIENGDIIEMDKEEKSGEKNNFNCCVCYFDGMFWFFL\n",
       "2383  TRYEIVHDYKNYPLFNDKGIIDCACPHPITSSKKHHHLSINHGQVASYY\n",
       "2384  NWKHNKFLYHKHWRCPHYPKDQIGTQDFLCMQKRIKPPAGTQWYRYPIT\n",
       "\n",
       "[2385 rows x 1 columns]"
      ]
     },
     "execution_count": 12,
     "metadata": {},
     "output_type": "execute_result"
    }
   ],
   "source": [
    "#Clean up seceuences, uppercase, remove invalid chars, remove X from begging and end of sequence\n",
    "#remove sequences with intermediary Xs\n",
    "filtered_df = clean_seq(seqs)\n",
    "filtered_df"
   ]
  },
  {
   "cell_type": "code",
   "execution_count": null,
   "id": "ab454036",
   "metadata": {},
   "outputs": [],
   "source": [
    "#Convert cleaned dataframe to Fasta format\n",
    "with open('../data/interim/filtered_seqs.fasta','w', encoding='UTF8') as f:\n",
    "    \n",
    "    for i in range(len(filtered_df)):\n",
    "        f.write(f\">{i}\\n{filtered_df.iloc[i,0]}\\n\")"
   ]
  },
  {
   "cell_type": "code",
   "execution_count": 18,
   "id": "fa766b88",
   "metadata": {},
   "outputs": [],
   "source": [
    "cd_hit_path = \"../data/interim/filtered_seqs_cd_hit.txt\""
   ]
  },
  {
   "cell_type": "code",
   "execution_count": 19,
   "id": "cedcadf8",
   "metadata": {},
   "outputs": [
    {
     "name": "stdout",
     "output_type": "stream",
     "text": [
      "STDOUT: ================================================================\n",
      "Program: CD-HIT, V4.8.1 (+OpenMP), Aug 20 2021, 08:39:56\n",
      "Command: cd-hit -i ../data/interim/filtered_seqs.fasta -o\n",
      "         ../data/interim/filtered_seqs_cd_hit.txt -c 0.99\n",
      "\n",
      "Started: Thu Jun 26 17:05:13 2025\n",
      "================================================================\n",
      "                            Output                              \n",
      "----------------------------------------------------------------\n",
      "total seq: 2384\n",
      "longest and shortest : 50 and 13\n",
      "Total letters: 119033\n",
      "Sequences have been sorted\n",
      "\n",
      "Approximated minimal memory consumption:\n",
      "Sequence        : 0M\n",
      "Buffer          : 1 X 10M = 10M\n",
      "Table           : 1 X 65M = 65M\n",
      "Miscellaneous   : 0M\n",
      "Total           : 76M\n",
      "\n",
      "Table limit with the given memory limit:\n",
      "Max number of representatives: 4000000\n",
      "Max number of word counting entries: 90456802\n",
      "\n",
      "\n",
      "comparing sequences from          0  to       2384\n",
      "..\n",
      "     2384  finished       2384  clusters\n",
      "\n",
      "Approximated maximum memory consumption: 77M\n",
      "writing new database\n",
      "writing clustering information\n",
      "program completed !\n",
      "\n",
      "Total CPU time 0.24\n",
      "\n",
      "STDERR: w\u0000s\u0000l\u0000:\u0000 \u0000A\u0000 \u0000l\u0000o\u0000c\u0000a\u0000l\u0000h\u0000o\u0000s\u0000t\u0000 \u0000p\u0000r\u0000o\u0000x\u0000y\u0000 \u0000c\u0000o\u0000n\u0000f\u0000i\u0000g\u0000u\u0000r\u0000a\u0000t\u0000i\u0000o\u0000n\u0000 \u0000w\u0000a\u0000s\u0000 \u0000d\u0000e\u0000t\u0000e\u0000c\u0000t\u0000e\u0000d\u0000 \u0000b\u0000u\u0000t\u0000 \u0000n\u0000o\u0000t\u0000 \u0000m\u0000i\u0000r\u0000r\u0000o\u0000r\u0000e\u0000d\u0000 \u0000i\u0000n\u0000t\u0000o\u0000 \u0000W\u0000S\u0000L\u0000.\u0000 \u0000W\u0000S\u0000L\u0000 \u0000i\u0000n\u0000 \u0000N\u0000A\u0000T\u0000 \u0000m\u0000o\u0000d\u0000e\u0000 \u0000d\u0000o\u0000e\u0000s\u0000 \u0000n\u0000o\u0000t\u0000 \u0000s\u0000u\u0000p\u0000p\u0000o\u0000r\u0000t\u0000 \u0000l\u0000o\u0000c\u0000a\u0000l\u0000h\u0000o\u0000s\u0000t\u0000 \u0000p\u0000r\u0000o\u0000x\u0000i\u0000e\u0000s\u0000.\u0000\n",
      "\u0000\n",
      "\u0000\n"
     ]
    }
   ],
   "source": [
    "# Process sequences with CD-HIT using WSL on windows environment\n",
    "# Ensure that WSL is installed and CD-HIT is available in the WSL environment\n",
    "command = [\"wsl\", \"cd-hit\", \"-i\", \"../data/interim/filtered_seqs.fasta\", \"-o\", cd_hit_path, \"-c\", \"0.99\"]\n",
    "\n",
    "# Run the command\n",
    "result = subprocess.run(command, capture_output=True, text=True)\n",
    "\n",
    "# Print the output and errors\n",
    "print(\"STDOUT:\", result.stdout)\n",
    "print(\"STDERR:\", result.stderr)"
   ]
  },
  {
   "cell_type": "code",
   "execution_count": null,
   "id": "0df8c1a0",
   "metadata": {},
   "outputs": [],
   "source": [
    "processed_seqs = pfeature_process(cd_hit_path,'../data/processed/pre_processed_seqs_pfeature.csv')\n",
    "processed_seqs"
   ]
  },
  {
   "cell_type": "code",
   "execution_count": null,
   "id": "c8084240",
   "metadata": {},
   "outputs": [],
   "source": []
  }
 ],
 "metadata": {
  "kernelspec": {
   "display_name": ".venv",
   "language": "python",
   "name": "python3"
  },
  "language_info": {
   "codemirror_mode": {
    "name": "ipython",
    "version": 3
   },
   "file_extension": ".py",
   "mimetype": "text/x-python",
   "name": "python",
   "nbconvert_exporter": "python",
   "pygments_lexer": "ipython3",
   "version": "3.10.11"
  }
 },
 "nbformat": 4,
 "nbformat_minor": 5
}
